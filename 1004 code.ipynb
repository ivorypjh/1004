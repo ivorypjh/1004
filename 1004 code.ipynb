{
 "cells": [
  {
   "cell_type": "markdown",
   "metadata": {},
   "source": [
    "### 1004 코드 연습"
   ]
  },
  {
   "cell_type": "code",
   "execution_count": null,
   "metadata": {},
   "outputs": [],
   "source": [
    "# 최대값 만들기(2)\n",
    "# 정수 배열이 주어질 때 배열의 원소들끼리 곱해서 만들 수 있는\n",
    "# 가장 큰 값을 구하는 문제\n",
    "\n",
    "# 모든 곱을 구해서 그 중 최대 값을 찾는 방식\n",
    "def solution(numbers):\n",
    "    \n",
    "    # 서로 다른 원소끼리 값을 곱해서 리스트로 저장\n",
    "    maxi = [a * b for a in numbers for b in numbers if (a != b)]\n",
    "    \n",
    "    # 서로 같은 원소가 존재하는 경우 그 제곱을 리스트에 추가\n",
    "    for item in numbers:\n",
    "        if numbers.count(item) >= 2:\n",
    "            maxi.append(item ** 2)\n",
    "            \n",
    "    # 곱해진 결과가 저장된 리스트에서 최대값 찾기\n",
    "    answer = max(maxi)\n",
    "    \n",
    "    return answer\n",
    "\n",
    "\n",
    "# 정수 배열을 정렬하고 최대 혹은 최소만 가지고 곱을 구하기\n",
    "def solution(numbers):\n",
    "\n",
    "    # 정수 배열을 정렬\n",
    "    numbers = sorted(numbers)\n",
    "\n",
    "    # 가장 큰 2개 혹은 가장 작은 2개를 곱해서 최대값 찾기\n",
    "    return max(numbers[0] * numbers[1], numbers[-1]*numbers[-2]) "
   ]
  },
  {
   "cell_type": "code",
   "execution_count": null,
   "metadata": {},
   "outputs": [],
   "source": [
    "# 캐릭터의 좌표\n",
    "# 캐릭터의 입력 방향이 배열로 주어지고 이동할 수 있는 맵의 크기가\n",
    "# 주어질 때 모든 이동이 끝난 후의 좌표를 구하는 문제\n",
    "\n",
    "def solution(keyinput, board):\n",
    "    answer = [0, 0]\n",
    "\n",
    "    # 가로, 세로 범위 구하기\n",
    "    width, height = board[0]//2, board[1]//2\n",
    "    m_width = -1 * width\n",
    "    m_height = -1 * height\n",
    "    \n",
    "    # 배열을 순회하면서 이동\n",
    "    for item in keyinput:\n",
    "        # 어떤 입력이 들어오는지 확인하고\n",
    "        # 이동할 수 있는 조건인지 판단해서 좌표를 조절\n",
    "        if item == 'up':\n",
    "            if answer[1] < height:\n",
    "                answer[1] += 1\n",
    "        elif item == 'down':\n",
    "            if answer[1] > m_height:\n",
    "                answer[1] -= 1\n",
    "        elif item == 'right':\n",
    "            if answer[0] < width:\n",
    "                answer[0] += 1\n",
    "        elif item == 'left':\n",
    "            if answer[0] > m_width:\n",
    "                answer[0] -= 1\n",
    "                \n",
    "    return answer"
   ]
  },
  {
   "cell_type": "code",
   "execution_count": null,
   "metadata": {},
   "outputs": [],
   "source": [
    "# 직사각형 넓이 구하기\n",
    "\n",
    "# 4개 점의 좌표가 주어질 때 그 점들로 만들어지는 \n",
    "# 직사각형의 넓이를 구하는 문제\n",
    "\n",
    "# 3개의 점을 가지고 좌표를 비교해서 가로, 세로 길이를 구하는 방식\n",
    "def solution(dots):\n",
    "    width = max(abs(dots[0][0] - dots[1][0]), abs(dots[1][0] - dots[2][0]))\n",
    "    height = max(abs(dots[0][1] - dots[1][1]), abs(dots[1][1] - dots[2][1]))\n",
    "    \n",
    "    answer = width * height\n",
    "    \n",
    "    return answer\n",
    "\n",
    "\n",
    "# min, max 를 활용한 좌표를 사용해서 넓이를 계산\n",
    "def solution(dots):\n",
    "    return (max(dots)[0] - min(dots)[0])*(max(dots)[1] - min(dots)[1])"
   ]
  }
 ],
 "metadata": {
  "language_info": {
   "name": "python"
  },
  "orig_nbformat": 4
 },
 "nbformat": 4,
 "nbformat_minor": 2
}

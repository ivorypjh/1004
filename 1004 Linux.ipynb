{
 "cells": [
  {
   "cell_type": "code",
   "execution_count": null,
   "metadata": {},
   "outputs": [],
   "source": [
    "#### 필기용으로 ipynb 를 사용"
   ]
  },
  {
   "cell_type": "markdown",
   "metadata": {},
   "source": [
    "### systemctl"
   ]
  },
  {
   "cell_type": "code",
   "execution_count": null,
   "metadata": {},
   "outputs": [],
   "source": [
    "# 시스템에서 현재 동작중인 유닛을 출력\n",
    "systemctl\n",
    "\n",
    "# -t 옵션을 사용해서 하나의 유닛만 출력\n",
    "# 여기에서는 socket 유닛만 출력\n",
    "systemctl -t socket\n",
    "\n",
    "# cron(일정한 시각 또는 주기를 가지고 작업을 수행) 이라는 서비스를 시작\n",
    "sudo systemctl start cron \n",
    "\n",
    "# cron 서비스가 실행중인지 확인 - active\n",
    "systemctl is-active cron \n",
    "\n",
    "# 유닛을 중지\n",
    "sudo systemctl stop cron \n",
    "\n",
    "# cron 서비스가 실행중인지 다시 확인 - inactive\n",
    "systemctl is-active cron "
   ]
  },
  {
   "cell_type": "markdown",
   "metadata": {},
   "source": [
    "### 패키지 관리 - apt-cache"
   ]
  },
  {
   "cell_type": "code",
   "execution_count": null,
   "metadata": {},
   "outputs": [],
   "source": [
    "# 캐시 정보 확인\n",
    "apt-cache stats\n",
    "\n",
    "# 패키지에서 키워드로 검색 - mysql\n",
    "apt-cache search mysql\n",
    "\n",
    "# 패키지에서 키워드로 검색 - oracle\n",
    "apt-cache search oracle"
   ]
  },
  {
   "cell_type": "markdown",
   "metadata": {},
   "source": [
    "### 패키지 관리 - apt-get update"
   ]
  },
  {
   "cell_type": "code",
   "execution_count": null,
   "metadata": {},
   "outputs": [],
   "source": [
    "# 패키지 정보 확인\n",
    "nano /etc/apt/source.list\n",
    "\n",
    "# 관리자 명령으로 업데이트 수행 - permission 문제\n",
    "apt-get update"
   ]
  },
  {
   "cell_type": "markdown",
   "metadata": {},
   "source": [
    "### 패키지 관리 - apt-get upgrade"
   ]
  },
  {
   "cell_type": "code",
   "execution_count": null,
   "metadata": {},
   "outputs": [],
   "source": [
    "# 패키지의 버전 업그레이드\n",
    "# update 와 마찬가지로 permission 문제로 관리자 권한이 필요\n",
    "sudo apt-get upgrade\n",
    "\n",
    "# 실행 중간에 y/n 을 묻는 대화형 창이 출력됨\n",
    "# 대화형 질문 없이 전부 수행하려면 -y 옵션을 사용"
   ]
  },
  {
   "cell_type": "markdown",
   "metadata": {},
   "source": []
  }
 ],
 "metadata": {
  "language_info": {
   "name": "python"
  },
  "orig_nbformat": 4
 },
 "nbformat": 4,
 "nbformat_minor": 2
}
